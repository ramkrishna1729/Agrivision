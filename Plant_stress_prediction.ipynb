{
  "nbformat": 4,
  "nbformat_minor": 0,
  "metadata": {
    "colab": {
      "provenance": []
    },
    "kernelspec": {
      "name": "python3",
      "display_name": "Python 3"
    },
    "language_info": {
      "name": "python"
    }
  },
  "cells": [
    {
      "cell_type": "markdown",
      "source": [
        " ## **1. Creating the dataframe**"
      ],
      "metadata": {
        "id": "QE14NwArTlk7"
      }
    },
    {
      "cell_type": "code",
      "source": [
        "import pandas as pd\n",
        "data = pd.read_csv('https://raw.githubusercontent.com/ramkrishna1729/Plant-stress-prediction/main/Plant%20stress%20level%20datasheet%20-%20feeds.csv')\n",
        "data"
      ],
      "metadata": {
        "colab": {
          "base_uri": "https://localhost:8080/",
          "height": 424
        },
        "id": "06JFEa9U4Nlc",
        "outputId": "da91d525-06fa-4d70-8095-4cd39f708df7"
      },
      "execution_count": null,
      "outputs": [
        {
          "output_type": "execute_result",
          "data": {
            "text/plain": [
              "          CropType  Temperature  Humidity  Soil moisture ( in %)  \\\n",
              "0           Tomato           25        70                     65   \n",
              "1           Tomato           32        55                     55   \n",
              "2           Tomato           20        80                     70   \n",
              "3           Tomato           30        65                     60   \n",
              "4           Tomato           18        75                     68   \n",
              "..             ...          ...       ...                    ...   \n",
              "263  Garden Flower           32        26                      8   \n",
              "264  Garden Flower           33        23                      6   \n",
              "265  Garden Flower           31        31                      9   \n",
              "266  Garden Flower           32        28                      7   \n",
              "267  Garden Flower           33        25                      5   \n",
              "\n",
              "     Light intensity Plant Stress Level  \n",
              "0               1200                Low  \n",
              "1                600           Moderate  \n",
              "2               1800                Low  \n",
              "3               1000           Moderate  \n",
              "4               2000                Low  \n",
              "..               ...                ...  \n",
              "263              450               High  \n",
              "264              400               High  \n",
              "265              500               High  \n",
              "266              450               High  \n",
              "267              400               High  \n",
              "\n",
              "[268 rows x 6 columns]"
            ],
            "text/html": [
              "\n",
              "  <div id=\"df-30f4019c-2f9e-46a6-9df9-427f29349fca\" class=\"colab-df-container\">\n",
              "    <div>\n",
              "<style scoped>\n",
              "    .dataframe tbody tr th:only-of-type {\n",
              "        vertical-align: middle;\n",
              "    }\n",
              "\n",
              "    .dataframe tbody tr th {\n",
              "        vertical-align: top;\n",
              "    }\n",
              "\n",
              "    .dataframe thead th {\n",
              "        text-align: right;\n",
              "    }\n",
              "</style>\n",
              "<table border=\"1\" class=\"dataframe\">\n",
              "  <thead>\n",
              "    <tr style=\"text-align: right;\">\n",
              "      <th></th>\n",
              "      <th>CropType</th>\n",
              "      <th>Temperature</th>\n",
              "      <th>Humidity</th>\n",
              "      <th>Soil moisture ( in %)</th>\n",
              "      <th>Light intensity</th>\n",
              "      <th>Plant Stress Level</th>\n",
              "    </tr>\n",
              "  </thead>\n",
              "  <tbody>\n",
              "    <tr>\n",
              "      <th>0</th>\n",
              "      <td>Tomato</td>\n",
              "      <td>25</td>\n",
              "      <td>70</td>\n",
              "      <td>65</td>\n",
              "      <td>1200</td>\n",
              "      <td>Low</td>\n",
              "    </tr>\n",
              "    <tr>\n",
              "      <th>1</th>\n",
              "      <td>Tomato</td>\n",
              "      <td>32</td>\n",
              "      <td>55</td>\n",
              "      <td>55</td>\n",
              "      <td>600</td>\n",
              "      <td>Moderate</td>\n",
              "    </tr>\n",
              "    <tr>\n",
              "      <th>2</th>\n",
              "      <td>Tomato</td>\n",
              "      <td>20</td>\n",
              "      <td>80</td>\n",
              "      <td>70</td>\n",
              "      <td>1800</td>\n",
              "      <td>Low</td>\n",
              "    </tr>\n",
              "    <tr>\n",
              "      <th>3</th>\n",
              "      <td>Tomato</td>\n",
              "      <td>30</td>\n",
              "      <td>65</td>\n",
              "      <td>60</td>\n",
              "      <td>1000</td>\n",
              "      <td>Moderate</td>\n",
              "    </tr>\n",
              "    <tr>\n",
              "      <th>4</th>\n",
              "      <td>Tomato</td>\n",
              "      <td>18</td>\n",
              "      <td>75</td>\n",
              "      <td>68</td>\n",
              "      <td>2000</td>\n",
              "      <td>Low</td>\n",
              "    </tr>\n",
              "    <tr>\n",
              "      <th>...</th>\n",
              "      <td>...</td>\n",
              "      <td>...</td>\n",
              "      <td>...</td>\n",
              "      <td>...</td>\n",
              "      <td>...</td>\n",
              "      <td>...</td>\n",
              "    </tr>\n",
              "    <tr>\n",
              "      <th>263</th>\n",
              "      <td>Garden Flower</td>\n",
              "      <td>32</td>\n",
              "      <td>26</td>\n",
              "      <td>8</td>\n",
              "      <td>450</td>\n",
              "      <td>High</td>\n",
              "    </tr>\n",
              "    <tr>\n",
              "      <th>264</th>\n",
              "      <td>Garden Flower</td>\n",
              "      <td>33</td>\n",
              "      <td>23</td>\n",
              "      <td>6</td>\n",
              "      <td>400</td>\n",
              "      <td>High</td>\n",
              "    </tr>\n",
              "    <tr>\n",
              "      <th>265</th>\n",
              "      <td>Garden Flower</td>\n",
              "      <td>31</td>\n",
              "      <td>31</td>\n",
              "      <td>9</td>\n",
              "      <td>500</td>\n",
              "      <td>High</td>\n",
              "    </tr>\n",
              "    <tr>\n",
              "      <th>266</th>\n",
              "      <td>Garden Flower</td>\n",
              "      <td>32</td>\n",
              "      <td>28</td>\n",
              "      <td>7</td>\n",
              "      <td>450</td>\n",
              "      <td>High</td>\n",
              "    </tr>\n",
              "    <tr>\n",
              "      <th>267</th>\n",
              "      <td>Garden Flower</td>\n",
              "      <td>33</td>\n",
              "      <td>25</td>\n",
              "      <td>5</td>\n",
              "      <td>400</td>\n",
              "      <td>High</td>\n",
              "    </tr>\n",
              "  </tbody>\n",
              "</table>\n",
              "<p>268 rows × 6 columns</p>\n",
              "</div>\n",
              "    <div class=\"colab-df-buttons\">\n",
              "\n",
              "  <div class=\"colab-df-container\">\n",
              "    <button class=\"colab-df-convert\" onclick=\"convertToInteractive('df-30f4019c-2f9e-46a6-9df9-427f29349fca')\"\n",
              "            title=\"Convert this dataframe to an interactive table.\"\n",
              "            style=\"display:none;\">\n",
              "\n",
              "  <svg xmlns=\"http://www.w3.org/2000/svg\" height=\"24px\" viewBox=\"0 -960 960 960\">\n",
              "    <path d=\"M120-120v-720h720v720H120Zm60-500h600v-160H180v160Zm220 220h160v-160H400v160Zm0 220h160v-160H400v160ZM180-400h160v-160H180v160Zm440 0h160v-160H620v160ZM180-180h160v-160H180v160Zm440 0h160v-160H620v160Z\"/>\n",
              "  </svg>\n",
              "    </button>\n",
              "\n",
              "  <style>\n",
              "    .colab-df-container {\n",
              "      display:flex;\n",
              "      gap: 12px;\n",
              "    }\n",
              "\n",
              "    .colab-df-convert {\n",
              "      background-color: #E8F0FE;\n",
              "      border: none;\n",
              "      border-radius: 50%;\n",
              "      cursor: pointer;\n",
              "      display: none;\n",
              "      fill: #1967D2;\n",
              "      height: 32px;\n",
              "      padding: 0 0 0 0;\n",
              "      width: 32px;\n",
              "    }\n",
              "\n",
              "    .colab-df-convert:hover {\n",
              "      background-color: #E2EBFA;\n",
              "      box-shadow: 0px 1px 2px rgba(60, 64, 67, 0.3), 0px 1px 3px 1px rgba(60, 64, 67, 0.15);\n",
              "      fill: #174EA6;\n",
              "    }\n",
              "\n",
              "    .colab-df-buttons div {\n",
              "      margin-bottom: 4px;\n",
              "    }\n",
              "\n",
              "    [theme=dark] .colab-df-convert {\n",
              "      background-color: #3B4455;\n",
              "      fill: #D2E3FC;\n",
              "    }\n",
              "\n",
              "    [theme=dark] .colab-df-convert:hover {\n",
              "      background-color: #434B5C;\n",
              "      box-shadow: 0px 1px 3px 1px rgba(0, 0, 0, 0.15);\n",
              "      filter: drop-shadow(0px 1px 2px rgba(0, 0, 0, 0.3));\n",
              "      fill: #FFFFFF;\n",
              "    }\n",
              "  </style>\n",
              "\n",
              "    <script>\n",
              "      const buttonEl =\n",
              "        document.querySelector('#df-30f4019c-2f9e-46a6-9df9-427f29349fca button.colab-df-convert');\n",
              "      buttonEl.style.display =\n",
              "        google.colab.kernel.accessAllowed ? 'block' : 'none';\n",
              "\n",
              "      async function convertToInteractive(key) {\n",
              "        const element = document.querySelector('#df-30f4019c-2f9e-46a6-9df9-427f29349fca');\n",
              "        const dataTable =\n",
              "          await google.colab.kernel.invokeFunction('convertToInteractive',\n",
              "                                                    [key], {});\n",
              "        if (!dataTable) return;\n",
              "\n",
              "        const docLinkHtml = 'Like what you see? Visit the ' +\n",
              "          '<a target=\"_blank\" href=https://colab.research.google.com/notebooks/data_table.ipynb>data table notebook</a>'\n",
              "          + ' to learn more about interactive tables.';\n",
              "        element.innerHTML = '';\n",
              "        dataTable['output_type'] = 'display_data';\n",
              "        await google.colab.output.renderOutput(dataTable, element);\n",
              "        const docLink = document.createElement('div');\n",
              "        docLink.innerHTML = docLinkHtml;\n",
              "        element.appendChild(docLink);\n",
              "      }\n",
              "    </script>\n",
              "  </div>\n",
              "\n",
              "\n",
              "<div id=\"df-fa7741a6-3313-41d8-8da5-e4173ab28774\">\n",
              "  <button class=\"colab-df-quickchart\" onclick=\"quickchart('df-fa7741a6-3313-41d8-8da5-e4173ab28774')\"\n",
              "            title=\"Suggest charts\"\n",
              "            style=\"display:none;\">\n",
              "\n",
              "<svg xmlns=\"http://www.w3.org/2000/svg\" height=\"24px\"viewBox=\"0 0 24 24\"\n",
              "     width=\"24px\">\n",
              "    <g>\n",
              "        <path d=\"M19 3H5c-1.1 0-2 .9-2 2v14c0 1.1.9 2 2 2h14c1.1 0 2-.9 2-2V5c0-1.1-.9-2-2-2zM9 17H7v-7h2v7zm4 0h-2V7h2v10zm4 0h-2v-4h2v4z\"/>\n",
              "    </g>\n",
              "</svg>\n",
              "  </button>\n",
              "\n",
              "<style>\n",
              "  .colab-df-quickchart {\n",
              "      --bg-color: #E8F0FE;\n",
              "      --fill-color: #1967D2;\n",
              "      --hover-bg-color: #E2EBFA;\n",
              "      --hover-fill-color: #174EA6;\n",
              "      --disabled-fill-color: #AAA;\n",
              "      --disabled-bg-color: #DDD;\n",
              "  }\n",
              "\n",
              "  [theme=dark] .colab-df-quickchart {\n",
              "      --bg-color: #3B4455;\n",
              "      --fill-color: #D2E3FC;\n",
              "      --hover-bg-color: #434B5C;\n",
              "      --hover-fill-color: #FFFFFF;\n",
              "      --disabled-bg-color: #3B4455;\n",
              "      --disabled-fill-color: #666;\n",
              "  }\n",
              "\n",
              "  .colab-df-quickchart {\n",
              "    background-color: var(--bg-color);\n",
              "    border: none;\n",
              "    border-radius: 50%;\n",
              "    cursor: pointer;\n",
              "    display: none;\n",
              "    fill: var(--fill-color);\n",
              "    height: 32px;\n",
              "    padding: 0;\n",
              "    width: 32px;\n",
              "  }\n",
              "\n",
              "  .colab-df-quickchart:hover {\n",
              "    background-color: var(--hover-bg-color);\n",
              "    box-shadow: 0 1px 2px rgba(60, 64, 67, 0.3), 0 1px 3px 1px rgba(60, 64, 67, 0.15);\n",
              "    fill: var(--button-hover-fill-color);\n",
              "  }\n",
              "\n",
              "  .colab-df-quickchart-complete:disabled,\n",
              "  .colab-df-quickchart-complete:disabled:hover {\n",
              "    background-color: var(--disabled-bg-color);\n",
              "    fill: var(--disabled-fill-color);\n",
              "    box-shadow: none;\n",
              "  }\n",
              "\n",
              "  .colab-df-spinner {\n",
              "    border: 2px solid var(--fill-color);\n",
              "    border-color: transparent;\n",
              "    border-bottom-color: var(--fill-color);\n",
              "    animation:\n",
              "      spin 1s steps(1) infinite;\n",
              "  }\n",
              "\n",
              "  @keyframes spin {\n",
              "    0% {\n",
              "      border-color: transparent;\n",
              "      border-bottom-color: var(--fill-color);\n",
              "      border-left-color: var(--fill-color);\n",
              "    }\n",
              "    20% {\n",
              "      border-color: transparent;\n",
              "      border-left-color: var(--fill-color);\n",
              "      border-top-color: var(--fill-color);\n",
              "    }\n",
              "    30% {\n",
              "      border-color: transparent;\n",
              "      border-left-color: var(--fill-color);\n",
              "      border-top-color: var(--fill-color);\n",
              "      border-right-color: var(--fill-color);\n",
              "    }\n",
              "    40% {\n",
              "      border-color: transparent;\n",
              "      border-right-color: var(--fill-color);\n",
              "      border-top-color: var(--fill-color);\n",
              "    }\n",
              "    60% {\n",
              "      border-color: transparent;\n",
              "      border-right-color: var(--fill-color);\n",
              "    }\n",
              "    80% {\n",
              "      border-color: transparent;\n",
              "      border-right-color: var(--fill-color);\n",
              "      border-bottom-color: var(--fill-color);\n",
              "    }\n",
              "    90% {\n",
              "      border-color: transparent;\n",
              "      border-bottom-color: var(--fill-color);\n",
              "    }\n",
              "  }\n",
              "</style>\n",
              "\n",
              "  <script>\n",
              "    async function quickchart(key) {\n",
              "      const quickchartButtonEl =\n",
              "        document.querySelector('#' + key + ' button');\n",
              "      quickchartButtonEl.disabled = true;  // To prevent multiple clicks.\n",
              "      quickchartButtonEl.classList.add('colab-df-spinner');\n",
              "      try {\n",
              "        const charts = await google.colab.kernel.invokeFunction(\n",
              "            'suggestCharts', [key], {});\n",
              "      } catch (error) {\n",
              "        console.error('Error during call to suggestCharts:', error);\n",
              "      }\n",
              "      quickchartButtonEl.classList.remove('colab-df-spinner');\n",
              "      quickchartButtonEl.classList.add('colab-df-quickchart-complete');\n",
              "    }\n",
              "    (() => {\n",
              "      let quickchartButtonEl =\n",
              "        document.querySelector('#df-fa7741a6-3313-41d8-8da5-e4173ab28774 button');\n",
              "      quickchartButtonEl.style.display =\n",
              "        google.colab.kernel.accessAllowed ? 'block' : 'none';\n",
              "    })();\n",
              "  </script>\n",
              "</div>\n",
              "\n",
              "  <div id=\"id_caa16c8f-a0df-404f-86be-f0b50748865f\">\n",
              "    <style>\n",
              "      .colab-df-generate {\n",
              "        background-color: #E8F0FE;\n",
              "        border: none;\n",
              "        border-radius: 50%;\n",
              "        cursor: pointer;\n",
              "        display: none;\n",
              "        fill: #1967D2;\n",
              "        height: 32px;\n",
              "        padding: 0 0 0 0;\n",
              "        width: 32px;\n",
              "      }\n",
              "\n",
              "      .colab-df-generate:hover {\n",
              "        background-color: #E2EBFA;\n",
              "        box-shadow: 0px 1px 2px rgba(60, 64, 67, 0.3), 0px 1px 3px 1px rgba(60, 64, 67, 0.15);\n",
              "        fill: #174EA6;\n",
              "      }\n",
              "\n",
              "      [theme=dark] .colab-df-generate {\n",
              "        background-color: #3B4455;\n",
              "        fill: #D2E3FC;\n",
              "      }\n",
              "\n",
              "      [theme=dark] .colab-df-generate:hover {\n",
              "        background-color: #434B5C;\n",
              "        box-shadow: 0px 1px 3px 1px rgba(0, 0, 0, 0.15);\n",
              "        filter: drop-shadow(0px 1px 2px rgba(0, 0, 0, 0.3));\n",
              "        fill: #FFFFFF;\n",
              "      }\n",
              "    </style>\n",
              "    <button class=\"colab-df-generate\" onclick=\"generateWithVariable('data')\"\n",
              "            title=\"Generate code using this dataframe.\"\n",
              "            style=\"display:none;\">\n",
              "\n",
              "  <svg xmlns=\"http://www.w3.org/2000/svg\" height=\"24px\"viewBox=\"0 0 24 24\"\n",
              "       width=\"24px\">\n",
              "    <path d=\"M7,19H8.4L18.45,9,17,7.55,7,17.6ZM5,21V16.75L18.45,3.32a2,2,0,0,1,2.83,0l1.4,1.43a1.91,1.91,0,0,1,.58,1.4,1.91,1.91,0,0,1-.58,1.4L9.25,21ZM18.45,9,17,7.55Zm-12,3A5.31,5.31,0,0,0,4.9,8.1,5.31,5.31,0,0,0,1,6.5,5.31,5.31,0,0,0,4.9,4.9,5.31,5.31,0,0,0,6.5,1,5.31,5.31,0,0,0,8.1,4.9,5.31,5.31,0,0,0,12,6.5,5.46,5.46,0,0,0,6.5,12Z\"/>\n",
              "  </svg>\n",
              "    </button>\n",
              "    <script>\n",
              "      (() => {\n",
              "      const buttonEl =\n",
              "        document.querySelector('#id_caa16c8f-a0df-404f-86be-f0b50748865f button.colab-df-generate');\n",
              "      buttonEl.style.display =\n",
              "        google.colab.kernel.accessAllowed ? 'block' : 'none';\n",
              "\n",
              "      buttonEl.onclick = () => {\n",
              "        google.colab.notebook.generateWithVariable('data');\n",
              "      }\n",
              "      })();\n",
              "    </script>\n",
              "  </div>\n",
              "\n",
              "    </div>\n",
              "  </div>\n"
            ],
            "application/vnd.google.colaboratory.intrinsic+json": {
              "type": "dataframe",
              "variable_name": "data",
              "summary": "{\n  \"name\": \"data\",\n  \"rows\": 268,\n  \"fields\": [\n    {\n      \"column\": \"CropType\",\n      \"properties\": {\n        \"dtype\": \"category\",\n        \"num_unique_values\": 7,\n        \"samples\": [\n          \"Tomato\",\n          \"Maize\",\n          \"Cotton\"\n        ],\n        \"semantic_type\": \"\",\n        \"description\": \"\"\n      }\n    },\n    {\n      \"column\": \"Temperature\",\n      \"properties\": {\n        \"dtype\": \"number\",\n        \"std\": 8,\n        \"min\": 18,\n        \"max\": 56,\n        \"num_unique_values\": 39,\n        \"samples\": [\n          52,\n          55,\n          18\n        ],\n        \"semantic_type\": \"\",\n        \"description\": \"\"\n      }\n    },\n    {\n      \"column\": \"Humidity\",\n      \"properties\": {\n        \"dtype\": \"number\",\n        \"std\": 15,\n        \"min\": 20,\n        \"max\": 88,\n        \"num_unique_values\": 63,\n        \"samples\": [\n          27,\n          61,\n          70\n        ],\n        \"semantic_type\": \"\",\n        \"description\": \"\"\n      }\n    },\n    {\n      \"column\": \"Soil moisture ( in %)\",\n      \"properties\": {\n        \"dtype\": \"number\",\n        \"std\": 20,\n        \"min\": 5,\n        \"max\": 95,\n        \"num_unique_values\": 84,\n        \"samples\": [\n          20,\n          65,\n          30\n        ],\n        \"semantic_type\": \"\",\n        \"description\": \"\"\n      }\n    },\n    {\n      \"column\": \"Light intensity\",\n      \"properties\": {\n        \"dtype\": \"number\",\n        \"std\": 957,\n        \"min\": 10,\n        \"max\": 5500,\n        \"num_unique_values\": 80,\n        \"samples\": [\n          1380,\n          1200,\n          250\n        ],\n        \"semantic_type\": \"\",\n        \"description\": \"\"\n      }\n    },\n    {\n      \"column\": \"Plant Stress Level\",\n      \"properties\": {\n        \"dtype\": \"category\",\n        \"num_unique_values\": 3,\n        \"samples\": [\n          \"Low\",\n          \"Moderate\",\n          \"High\"\n        ],\n        \"semantic_type\": \"\",\n        \"description\": \"\"\n      }\n    }\n  ]\n}"
            }
          },
          "metadata": {},
          "execution_count": 139
        }
      ]
    },
    {
      "cell_type": "markdown",
      "source": [
        "## **2. Data Visualization**"
      ],
      "metadata": {
        "id": "9NVpV8FhGoaV"
      }
    },
    {
      "cell_type": "code",
      "source": [
        "import seaborn as sns\n",
        "import matplotlib.pyplot as plt\n",
        "\n",
        "# Ideal conditions data with season information\n",
        "ideal_conditions = {\n",
        "    'Tomato': {'Temperature': '21°C - 29°C', 'Humidity': '60% - 80%', 'Soil moisture (%)': '60% - 70%', 'Light intensity': '800 - 2500 lux', 'Season': 'Year-round except peak summer (March to June)'},\n",
        "    'Maize': {'Temperature': '21°C - 29°C', 'Humidity': '60% - 70%', 'Soil moisture (%)': '60% - 70%', 'Light intensity': '800 - 2500 lux', 'Season': 'Summer (March to May) and rainy (June to September) seasons'},\n",
        "    'Rice': {'Temperature': '20°C - 29°C', 'Humidity': '70% - 80%', 'Soil moisture (%)': '80% - 100%', 'Light intensity': '3000 - 6000 lux', 'Season': 'Summer (March to June) and rainy (June to October) seasons'},\n",
        "    'Potato': {'Temperature': '18°C - 25°C', 'Humidity': '60% - 80%', 'Soil moisture (%)': '70% - 80%', 'Light intensity': '1000 - 2000 lux', 'Season': 'Winter (October to February) and summer (March to May) seasons'},\n",
        "    'Sugarcane': {'Temperature': '25°C - 35°C', 'Humidity': '60% - 80%', 'Soil moisture (%)': '70% - 80%', 'Light intensity': '1500 - 2500 lux', 'Season': 'Summer (March to May) and rainy (June to September) seasons'},\n",
        "    'Cotton': {'Temperature': '25°C - 30°C', 'Humidity': '60% - 80%', 'Soil moisture (%)': '60% - 70%', 'Light intensity': '1000 - 2000 lux', 'Season': 'Kharif (June to October) and Rabi (October to March) seasons'},\n",
        "    'Garden Flower': {'Temperature': '18°C - 25°C', 'Humidity': '40% - 60%', 'Soil moisture (%)': '21% - 40%', 'Light intensity': '800 - 3000 lux', 'Season': 'Year-round'},\n",
        "}\n",
        "\n",
        "# Extract temperature ranges for low stress level for each crop\n",
        "crops = list(ideal_conditions.keys())\n",
        "min_temperatures = [int(ideal_conditions[crop]['Temperature'].split(' - ')[0].replace('°C', '')) for crop in crops]\n",
        "max_temperatures = [int(ideal_conditions[crop]['Temperature'].split(' - ')[1].replace('°C', '')) for crop in crops]\n",
        "\n",
        "# Create DataFrame for plotting\n",
        "import pandas as pd\n",
        "df = pd.DataFrame({'Crop': crops, 'Min Temperature': min_temperatures, 'Max Temperature': max_temperatures})\n",
        "\n",
        "# Plot using Seaborn with a different color palette\n",
        "plt.figure(figsize=(10, 6))\n",
        "sns.barplot(data=df, y='Crop', x='Max Temperature', hue='Min Temperature', palette='rocket', dodge=False)\n",
        "plt.xlabel('Temperature (°C)')\n",
        "plt.ylabel('Crop')\n",
        "plt.title('Ideal Temperature Range for Low Plant Stress Level')\n",
        "plt.grid(axis='x')\n",
        "plt.show()\n"
      ],
      "metadata": {
        "colab": {
          "base_uri": "https://localhost:8080/",
          "height": 564
        },
        "id": "tZDykU56G51F",
        "outputId": "72bbfe72-8bf5-414d-eb25-05d5c70421dc"
      },
      "execution_count": null,
      "outputs": [
        {
          "output_type": "display_data",
          "data": {
            "text/plain": [
              "<Figure size 1000x600 with 1 Axes>"
            ],
            "image/png": "[encoded data removed]"
          },
          "metadata": {}
        }
      ]
    },
    {
      "cell_type": "markdown",
      "source": [
        "Here , we can observe that the maximum ideal temperature for most of the crops is 25°c and minimum is 18°c."
      ],
      "metadata": {
        "id": "ek2680ncioov"
      }
    },
    {
      "cell_type": "markdown",
      "source": [
        "## **3. Feature selection**"
      ],
      "metadata": {
        "id": "ZW-KBDEOYW27"
      }
    },
    {
      "cell_type": "code",
      "source": [
        "# Dividing into input/ output\n",
        "X = data[['Temperature', 'Humidity', 'Soil moisture ( in %)', 'Light intensity']] #these features are taken as inputs as these hyperparameters for the model\n",
        "y = data['Plant Stress Level'] #these features are taken as outputs of the system"
      ],
      "metadata": {
        "id": "WXaqhiQUz3wS"
      },
      "execution_count": null,
      "outputs": []
    },
    {
      "cell_type": "markdown",
      "source": [
        "## **4. Train-test split**"
      ],
      "metadata": {
        "id": "Y6h7QhPBY98W"
      }
    },
    {
      "cell_type": "code",
      "source": [
        "# Dividing data set into training and testing set\n",
        "from sklearn.model_selection import train_test_split\n",
        "X_train, X_test, y_train, y_test = train_test_split(X, y, test_size=0.2, random_state=42) # normally 80% of input data is used for traing and 20% is used for testing"
      ],
      "metadata": {
        "id": "c4k1Ct37s-J_"
      },
      "execution_count": null,
      "outputs": []
    },
    {
      "cell_type": "markdown",
      "source": [
        "## **5. Model selection and fiting**"
      ],
      "metadata": {
        "id": "aYvgdj7sagpp"
      }
    },
    {
      "cell_type": "code",
      "source": [
        "from sklearn.ensemble import RandomForestClassifier # classifier used for complex relationships\n",
        "model = RandomForestClassifier(n_estimators=100, random_state=42)\n",
        "model.fit(X_train, y_train) # X_train represents features( input variables , 2D array like object) and y_train contains targets values(1Darry like object)"
      ],
      "metadata": {
        "colab": {
          "base_uri": "https://localhost:8080/",
          "height": 75
        },
        "id": "NUHTlqyCwxSr",
        "outputId": "fc4db58e-c6fc-42b1-875e-cfd14557a331"
      },
      "execution_count": null,
      "outputs": [
        {
          "output_type": "execute_result",
          "data": {
            "text/plain": [
              "RandomForestClassifier(random_state=42)"
            ],
            "text/html": [
              "<style>#sk-container-id-4 {color: black;background-color: white;}#sk-container-id-4 pre{padding: 0;}#sk-container-id-4 div.sk-toggleable {background-color: white;}#sk-container-id-4 label.sk-toggleable__label {cursor: pointer;display: block;width: 100%;margin-bottom: 0;padding: 0.3em;box-sizing: border-box;text-align: center;}#sk-container-id-4 label.sk-toggleable__label-arrow:before {content: \"▸\";float: left;margin-right: 0.25em;color: #696969;}#sk-container-id-4 label.sk-toggleable__label-arrow:hover:before {color: black;}#sk-container-id-4 div.sk-estimator:hover label.sk-toggleable__label-arrow:before {color: black;}#sk-container-id-4 div.sk-toggleable__content {max-height: 0;max-width: 0;overflow: hidden;text-align: left;background-color: #f0f8ff;}#sk-container-id-4 div.sk-toggleable__content pre {margin: 0.2em;color: black;border-radius: 0.25em;background-color: #f0f8ff;}#sk-container-id-4 input.sk-toggleable__control:checked~div.sk-toggleable__content {max-height: 200px;max-width: 100%;overflow: auto;}#sk-container-id-4 input.sk-toggleable__control:checked~label.sk-toggleable__label-arrow:before {content: \"▾\";}#sk-container-id-4 div.sk-estimator input.sk-toggleable__control:checked~label.sk-toggleable__label {background-color: #d4ebff;}#sk-container-id-4 div.sk-label input.sk-toggleable__control:checked~label.sk-toggleable__label {background-color: #d4ebff;}#sk-container-id-4 input.sk-hidden--visually {border: 0;clip: rect(1px 1px 1px 1px);clip: rect(1px, 1px, 1px, 1px);height: 1px;margin: -1px;overflow: hidden;padding: 0;position: absolute;width: 1px;}#sk-container-id-4 div.sk-estimator {font-family: monospace;background-color: #f0f8ff;border: 1px dotted black;border-radius: 0.25em;box-sizing: border-box;margin-bottom: 0.5em;}#sk-container-id-4 div.sk-estimator:hover {background-color: #d4ebff;}#sk-container-id-4 div.sk-parallel-item::after {content: \"\";width: 100%;border-bottom: 1px solid gray;flex-grow: 1;}#sk-container-id-4 div.sk-label:hover label.sk-toggleable__label {background-color: #d4ebff;}#sk-container-id-4 div.sk-serial::before {content: \"\";position: absolute;border-left: 1px solid gray;box-sizing: border-box;top: 0;bottom: 0;left: 50%;z-index: 0;}#sk-container-id-4 div.sk-serial {display: flex;flex-direction: column;align-items: center;background-color: white;padding-right: 0.2em;padding-left: 0.2em;position: relative;}#sk-container-id-4 div.sk-item {position: relative;z-index: 1;}#sk-container-id-4 div.sk-parallel {display: flex;align-items: stretch;justify-content: center;background-color: white;position: relative;}#sk-container-id-4 div.sk-item::before, #sk-container-id-4 div.sk-parallel-item::before {content: \"\";position: absolute;border-left: 1px solid gray;box-sizing: border-box;top: 0;bottom: 0;left: 50%;z-index: -1;}#sk-container-id-4 div.sk-parallel-item {display: flex;flex-direction: column;z-index: 1;position: relative;background-color: white;}#sk-container-id-4 div.sk-parallel-item:first-child::after {align-self: flex-end;width: 50%;}#sk-container-id-4 div.sk-parallel-item:last-child::after {align-self: flex-start;width: 50%;}#sk-container-id-4 div.sk-parallel-item:only-child::after {width: 0;}#sk-container-id-4 div.sk-dashed-wrapped {border: 1px dashed gray;margin: 0 0.4em 0.5em 0.4em;box-sizing: border-box;padding-bottom: 0.4em;background-color: white;}#sk-container-id-4 div.sk-label label {font-family: monospace;font-weight: bold;display: inline-block;line-height: 1.2em;}#sk-container-id-4 div.sk-label-container {text-align: center;}#sk-container-id-4 div.sk-container {/* jupyter's `normalize.less` sets `[hidden] { display: none; }` but bootstrap.min.css set `[hidden] { display: none !important; }` so we also need the `!important` here to be able to override the default hidden behavior on the sphinx rendered scikit-learn.org. See: https://github.com/scikit-learn/scikit-learn/issues/21755 */display: inline-block !important;position: relative;}#sk-container-id-4 div.sk-text-repr-fallback {display: none;}</style><div id=\"sk-container-id-4\" class=\"sk-top-container\"><div class=\"sk-text-repr-fallback\"><pre>RandomForestClassifier(random_state=42)</pre><b>In a Jupyter environment, please rerun this cell to show the HTML representation or trust the notebook. <br />On GitHub, the HTML representation is unable to render, please try loading this page with nbviewer.org.</b></div><div class=\"sk-container\" hidden><div class=\"sk-item\"><div class=\"sk-estimator sk-toggleable\"><input class=\"sk-toggleable__control sk-hidden--visually\" id=\"sk-estimator-id-4\" type=\"checkbox\" checked><label for=\"sk-estimator-id-4\" class=\"sk-toggleable__label sk-toggleable__label-arrow\">RandomForestClassifier</label><div class=\"sk-toggleable__content\"><pre>RandomForestClassifier(random_state=42)</pre></div></div></div></div></div>"
            ]
          },
          "metadata": {},
          "execution_count": 134
        }
      ]
    },
    {
      "cell_type": "markdown",
      "source": [
        "## **6. Model evaluation**"
      ],
      "metadata": {
        "id": "qQOzc5XFfHv0"
      }
    },
    {
      "cell_type": "code",
      "source": [
        "# Model evaluation\n",
        "from sklearn.metrics import accuracy_score\n",
        "y_pred = model.predict(X_test)\n",
        "accuracy = accuracy_score(y_test, y_pred)\n",
        "print(\"Model Accuracy:\", accuracy)"
      ],
      "metadata": {
        "colab": {
          "base_uri": "https://localhost:8080/"
        },
        "id": "9nTqezB2nCms",
        "outputId": "5b216ff6-d6e0-4959-b9d8-4de279594927"
      },
      "execution_count": null,
      "outputs": [
        {
          "output_type": "stream",
          "name": "stdout",
          "text": [
            "Model Accuracy: 0.9259259259259259\n"
          ]
        }
      ]
    },
    {
      "cell_type": "code",
      "source": [
        "# Manual input\n",
        "crop_type = input(\"Enter crop type (e.g., Tomato, Maize, Rice, etc.): \")\n",
        "temperature = float(input(\"Enter temperature: \"))\n",
        "humidity = float(input(\"Enter humidity: \"))\n",
        "soil_moisture = float(input(\"Enter soil moisture (%): \"))\n",
        "light_intensity = float(input(\"Enter light intensity: \"))"
      ],
      "metadata": {
        "colab": {
          "base_uri": "https://localhost:8080/"
        },
        "id": "OzmgQ32w_ngj",
        "outputId": "d2c195f3-3b81-4776-905c-4d93d64fc9e8"
      },
      "execution_count": null,
      "outputs": [
        {
          "name": "stdout",
          "output_type": "stream",
          "text": [
            "Enter crop type (e.g., Tomato, Maize, Rice, etc.): Rice\n",
            "Enter temperature: 45\n",
            "Enter humidity: 89\n",
            "Enter soil moisture (%): 56\n",
            "Enter light intensity: 50\n"
          ]
        }
      ]
    },
    {
      "cell_type": "markdown",
      "source": [
        "## **7. Predicting the output**"
      ],
      "metadata": {
        "id": "Mze337p-fgpp"
      }
    },
    {
      "cell_type": "code",
      "source": [
        "\n",
        "# Make prediction for manual input\n",
        "input_data = pd.DataFrame([[temperature, humidity, soil_moisture, light_intensity]], columns=X.columns)\n",
        "predicted_stress_level = model.predict(input_data)\n",
        "\n",
        "# Get ideal conditions for the specified crop\n",
        "ideal_condition = ideal_conditions.get(crop_type)\n",
        "\n",
        "# Display predicted stress level, ideal conditions, and current conditions\n",
        "print(\"Predicted stress level for\", crop_type + \":\", predicted_stress_level[0])\n",
        "print(\"\\nIdeal conditions for\", crop_type + \":\")\n",
        "for condition, value in ideal_condition.items():\n",
        "    print(f\"{condition}: {value}\")\n",
        "print(\"\\nCurrent conditions:\")\n",
        "print(f\"Temperature: {temperature}, Humidity: {humidity}, Soil moisture (%): {soil_moisture}, Light intensity: {light_intensity}\")\n",
        "\n"
      ],
      "metadata": {
        "colab": {
          "base_uri": "https://localhost:8080/"
        },
        "id": "z2xoQ6Bk9RTz",
        "outputId": "e0518d60-ec74-46a0-a54d-ac456abb6410"
      },
      "execution_count": null,
      "outputs": [
        {
          "output_type": "stream",
          "name": "stdout",
          "text": [
            "Predicted stress level for Rice: Moderate\n",
            "\n",
            "Ideal conditions for Rice:\n",
            "Temperature: 20°C - 29°C\n",
            "Humidity: 70% - 80%\n",
            "Soil moisture (%): 80% - 100%\n",
            "Light intensity: 3000 - 6000 lux\n",
            "Season: Summer (March to June) and rainy (June to October) seasons\n",
            "\n",
            "Current conditions:\n",
            "Temperature: 45.0, Humidity: 89.0, Soil moisture (%): 56.0, Light intensity: 50.0\n"
          ]
        }
      ]
    }
  ]
}